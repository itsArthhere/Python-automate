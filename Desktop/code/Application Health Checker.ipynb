{
 "cells": [
  {
   "cell_type": "code",
   "execution_count": 2,
   "metadata": {},
   "outputs": [
    {
     "name": "stdout",
     "output_type": "stream",
     "text": [
      "Application is Up\n"
     ]
    }
   ],
   "source": [
    "# Statement 2 - Application Health Checker:\n",
    "\n",
    "import requests\n",
    "\n",
    "\n",
    "def check_status(url):\n",
    "    try:\n",
    "        response = requests.get(url)\n",
    "        if response.status_code == 200:\n",
    "            return \"Up\"\n",
    "        else:\n",
    "            return \"Down\"\n",
    "    except requests.ConnectionError:\n",
    "        return \"Down\"\n",
    "\n",
    "    \n",
    "    \n",
    "    \n",
    "    \n",
    "if __name__ == \"__main__\":\n",
    "    application_url = \"https://www.accuknox.com/\"\n",
    "\n",
    "    \n",
    "    status = check_status(application_url)\n",
    "\n",
    "    \n",
    "    print(f\"Application is {status}\")\n"
   ]
  },
  {
   "cell_type": "code",
   "execution_count": null,
   "metadata": {},
   "outputs": [],
   "source": []
  }
 ],
 "metadata": {
  "kernelspec": {
   "display_name": "Python 3",
   "language": "python",
   "name": "python3"
  },
  "language_info": {
   "codemirror_mode": {
    "name": "ipython",
    "version": 3
   },
   "file_extension": ".py",
   "mimetype": "text/x-python",
   "name": "python",
   "nbconvert_exporter": "python",
   "pygments_lexer": "ipython3",
   "version": "3.7.3"
  }
 },
 "nbformat": 4,
 "nbformat_minor": 2
}
