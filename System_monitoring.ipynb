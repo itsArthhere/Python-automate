{
 "cells": [
  {
   "cell_type": "code",
   "execution_count": 4,
   "metadata": {},
   "outputs": [
    {
     "name": "stdout",
     "output_type": "stream",
     "text": [
      "Memory usage is High!!!:  87.7 %\n",
      "Disk usage is High!!!:  99.9 %\n",
      "Number of running processes is High!!!:  322\n"
     ]
    }
   ],
   "source": [
    "# Satement 1 - System Health Monitoring Script:\n",
    "\n",
    "import psutil\n",
    "\n",
    "CPU_THRESHOLD = 80  \n",
    "MEMORY_THRESHOLD = 80  \n",
    "DISK_THRESHOLD = 80  \n",
    "PROCESS_THRESHOLD = 100  \n",
    "\n",
    "\n",
    "cpu_percent = psutil.cpu_percent(interval=1)\n",
    "if cpu_percent > CPU_THRESHOLD:\n",
    "    print(f\"CPU usage is High!!!: \",cpu_percent,\"%\")\n",
    "\n",
    "\n",
    "memory_percent = psutil.virtual_memory().percent\n",
    "if memory_percent > MEMORY_THRESHOLD:\n",
    "    print(f\"Memory usage is High!!!: \",memory_percent,\"%\")\n",
    "\n",
    "\n",
    "disk_percent = psutil.disk_usage('/').percent\n",
    "if disk_percent > DISK_THRESHOLD:\n",
    "    print(f\"Disk usage is High!!!: \",disk_percent,\"%\")\n",
    "\n",
    "\n",
    "num_processes = len(psutil.pids())\n",
    "if num_processes > PROCESS_THRESHOLD:\n",
    "    print(f\"Number of running processes is High!!!: \",num_processes)\n",
    "\n"
   ]
  },
  {
   "cell_type": "code",
   "execution_count": null,
   "metadata": {},
   "outputs": [],
   "source": []
  },
  {
   "cell_type": "code",
   "execution_count": null,
   "metadata": {},
   "outputs": [],
   "source": []
  }
 ],
 "metadata": {
  "kernelspec": {
   "display_name": "Python 3",
   "language": "python",
   "name": "python3"
  },
  "language_info": {
   "codemirror_mode": {
    "name": "ipython",
    "version": 3
   },
   "file_extension": ".py",
   "mimetype": "text/x-python",
   "name": "python",
   "nbconvert_exporter": "python",
   "pygments_lexer": "ipython3",
   "version": "3.7.3"
  }
 },
 "nbformat": 4,
 "nbformat_minor": 2
}
